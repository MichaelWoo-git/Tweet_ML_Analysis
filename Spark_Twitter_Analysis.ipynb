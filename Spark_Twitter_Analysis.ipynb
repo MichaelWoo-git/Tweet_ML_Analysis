{
 "cells": [
  {
   "cell_type": "markdown",
   "metadata": {},
   "source": [
    "__Imports__"
   ]
  },
  {
   "cell_type": "code",
   "execution_count": 1,
   "metadata": {},
   "outputs": [],
   "source": [
    "import numpy as np\n",
    "import pandas as pd\n",
    "from pyspark.sql import SparkSession\n",
    "from google_drive_downloader import GoogleDriveDownloader as gdd\n",
    "from pyspark.ml.feature import RegexTokenizer, StopWordsRemover, CountVectorizer\n",
    "from pyspark.ml.classification import LogisticRegression\n",
    "import nltk\n",
    "from nltk.corpus import stopwords\n",
    "import string\n",
    "from pyspark.ml import Pipeline\n",
    "from pyspark.ml.feature import OneHotEncoder, StringIndexer, VectorAssembler\n",
    "from pyspark.sql.functions import col\n",
    "from pyspark.ml.evaluation import MulticlassClassificationEvaluator"
   ]
  },
  {
   "cell_type": "markdown",
   "metadata": {},
   "source": [
    "__Download File from link given in Canvas__\n",
    "\n",
    "This will be stored into your local...Do not add into git, file is too large to be pushed onto git master branch\n",
    "\n",
    "So, we download locally"
   ]
  },
  {
   "cell_type": "code",
   "execution_count": 2,
   "metadata": {},
   "outputs": [],
   "source": [
    "gdd.download_file_from_google_drive(file_id='0B04GJPshIjmPRnZManQwWEdTZjg',\n",
    "                                    dest_path='/Users/mwoo/Downloads/trainingandtestdata.zip',\n",
    "                                    unzip=True)"
   ]
  },
  {
   "cell_type": "code",
   "execution_count": 3,
   "metadata": {},
   "outputs": [],
   "source": [
    "# gdd.download_file_from_google_drive(file_id='0B04GJPshIjmPRnZManQwWEdTZjg',\n",
    "#                                     dest_path='/Users/swapnilbasu/Downloads/trainingandtestdata.zip',\n",
    "#                                     unzip=True)"
   ]
  },
  {
   "cell_type": "markdown",
   "metadata": {},
   "source": [
    "__Create spark session object (Data Processing)__"
   ]
  },
  {
   "cell_type": "code",
   "execution_count": 4,
   "metadata": {},
   "outputs": [],
   "source": [
    "spark=SparkSession.builder.appName('classification_tweet').getOrCreate()"
   ]
  },
  {
   "cell_type": "markdown",
   "metadata": {},
   "source": [
    "__Load in data__"
   ]
  },
  {
   "cell_type": "code",
   "execution_count": 5,
   "metadata": {},
   "outputs": [],
   "source": [
    "training_data = spark.read.csv(\"/Users/mwoo/Downloads/training.1600000.processed.noemoticon.csv\",header=False)"
   ]
  },
  {
   "cell_type": "markdown",
   "metadata": {},
   "source": [
    "__Renaming columns__"
   ]
  },
  {
   "cell_type": "code",
   "execution_count": 6,
   "metadata": {},
   "outputs": [
    {
     "data": {
      "text/plain": [
       "['_c0', '_c1', '_c2', '_c3', '_c4', '_c5']"
      ]
     },
     "execution_count": 6,
     "metadata": {},
     "output_type": "execute_result"
    }
   ],
   "source": [
    "training_data.columns"
   ]
  },
  {
   "cell_type": "code",
   "execution_count": 7,
   "metadata": {},
   "outputs": [],
   "source": [
    "training_data = training_data.toDF(\"target\",'id','date','query','user_name','text')"
   ]
  },
  {
   "cell_type": "code",
   "execution_count": 8,
   "metadata": {},
   "outputs": [
    {
     "data": {
      "text/plain": [
       "['target', 'id', 'date', 'query', 'user_name', 'text']"
      ]
     },
     "execution_count": 8,
     "metadata": {},
     "output_type": "execute_result"
    }
   ],
   "source": [
    "training_data.columns"
   ]
  },
  {
   "cell_type": "markdown",
   "metadata": {},
   "source": [
    "__Exploratory__"
   ]
  },
  {
   "cell_type": "code",
   "execution_count": 9,
   "metadata": {},
   "outputs": [
    {
     "data": {
      "text/plain": [
       "DataFrame[summary: string, target: string, id: string, date: string, query: string, user_name: string, text: string]"
      ]
     },
     "execution_count": 9,
     "metadata": {},
     "output_type": "execute_result"
    }
   ],
   "source": [
    "training_data.describe()"
   ]
  },
  {
   "cell_type": "markdown",
   "metadata": {},
   "source": [
    "__Selecting the target value and text__"
   ]
  },
  {
   "cell_type": "code",
   "execution_count": 10,
   "metadata": {},
   "outputs": [],
   "source": [
    "df = training_data.select('text','target')"
   ]
  },
  {
   "cell_type": "code",
   "execution_count": 11,
   "metadata": {},
   "outputs": [
    {
     "name": "stdout",
     "output_type": "stream",
     "text": [
      "+--------------------+------+\n",
      "|                text|target|\n",
      "+--------------------+------+\n",
      "|@switchfoot http:...|     0|\n",
      "|is upset that he ...|     0|\n",
      "|@Kenichan I dived...|     0|\n",
      "|my whole body fee...|     0|\n",
      "|@nationwideclass ...|     0|\n",
      "+--------------------+------+\n",
      "only showing top 5 rows\n",
      "\n"
     ]
    }
   ],
   "source": [
    "df.show(5)"
   ]
  },
  {
   "cell_type": "code",
   "execution_count": 12,
   "metadata": {},
   "outputs": [
    {
     "name": "stdout",
     "output_type": "stream",
     "text": [
      "root\n",
      " |-- text: string (nullable = true)\n",
      " |-- target: string (nullable = true)\n",
      "\n"
     ]
    }
   ],
   "source": [
    "df.printSchema()"
   ]
  },
  {
   "cell_type": "markdown",
   "metadata": {},
   "source": [
    "We can see below that its an even split between positive and negative tweets\n",
    "\n",
    "0: negative\n",
    "4: positive"
   ]
  },
  {
   "cell_type": "code",
   "execution_count": 13,
   "metadata": {},
   "outputs": [
    {
     "name": "stdout",
     "output_type": "stream",
     "text": [
      "+------+------+\n",
      "|target| count|\n",
      "+------+------+\n",
      "|     0|800000|\n",
      "|     4|800000|\n",
      "+------+------+\n",
      "\n"
     ]
    }
   ],
   "source": [
    "df.groupBy(\"target\").count().orderBy(col(\"count\").desc()).show()"
   ]
  },
  {
   "cell_type": "markdown",
   "metadata": {},
   "source": [
    "__Model Pipeline__"
   ]
  },
  {
   "cell_type": "markdown",
   "metadata": {},
   "source": [
    "__Regular Expression Tokenizer__\n",
    "\n",
    "Seperates the texts into words"
   ]
  },
  {
   "cell_type": "code",
   "execution_count": 14,
   "metadata": {},
   "outputs": [],
   "source": [
    "regexTokenizer = RegexTokenizer(inputCol=\"text\", outputCol=\"words\", pattern=\"\\\\W\")"
   ]
  },
  {
   "cell_type": "markdown",
   "metadata": {},
   "source": [
    "__Stop Words Download from NLTK__"
   ]
  },
  {
   "cell_type": "code",
   "execution_count": 15,
   "metadata": {},
   "outputs": [
    {
     "name": "stderr",
     "output_type": "stream",
     "text": [
      "[nltk_data] Downloading package stopwords to /Users/mwoo/nltk_data...\n",
      "[nltk_data]   Package stopwords is already up-to-date!\n"
     ]
    },
    {
     "data": {
      "text/plain": [
       "True"
      ]
     },
     "execution_count": 15,
     "metadata": {},
     "output_type": "execute_result"
    }
   ],
   "source": [
    "nltk.download('stopwords')"
   ]
  },
  {
   "cell_type": "markdown",
   "metadata": {},
   "source": [
    "__Stop Words Remover__\n",
    "\n",
    "Remove unnecessary words"
   ]
  },
  {
   "cell_type": "code",
   "execution_count": 16,
   "metadata": {},
   "outputs": [],
   "source": [
    "sp = set(string.punctuation)\n",
    "stop_words = set(stopwords.words('english'))\n",
    "extra_words = {\"http\",\"https\",\"amp\",\"rt\",\"t\",\"c\",\"the\"}\n",
    "for i in extra_words:\n",
    "    stop_words.add(i) \n",
    "stop_words = list(stop_words)"
   ]
  },
  {
   "cell_type": "code",
   "execution_count": 17,
   "metadata": {},
   "outputs": [],
   "source": [
    "stopwordsRemover = StopWordsRemover(inputCol=\"words\", outputCol=\"filtered\").setStopWords(stop_words)"
   ]
  },
  {
   "cell_type": "markdown",
   "metadata": {},
   "source": [
    "__Bag of words count__\n",
    "\n",
    "This is a type of feature engineering"
   ]
  },
  {
   "cell_type": "code",
   "execution_count": 18,
   "metadata": {},
   "outputs": [],
   "source": [
    "countVectors = CountVectorizer(inputCol=\"filtered\", outputCol=\"features\", vocabSize=10000, minDF=5)"
   ]
  },
  {
   "cell_type": "markdown",
   "metadata": {},
   "source": [
    "__StringIndexer__\n",
    "\n",
    "Indexing target values"
   ]
  },
  {
   "cell_type": "code",
   "execution_count": 19,
   "metadata": {},
   "outputs": [],
   "source": [
    "label_stringIdx = StringIndexer(inputCol = \"target\", outputCol = \"label\")"
   ]
  },
  {
   "cell_type": "code",
   "execution_count": 20,
   "metadata": {},
   "outputs": [
    {
     "name": "stdout",
     "output_type": "stream",
     "text": [
      "+--------------------+------+--------------------+--------------------+--------------------+-----+\n",
      "|                text|target|               words|            filtered|            features|label|\n",
      "+--------------------+------+--------------------+--------------------+--------------------+-----+\n",
      "|@switchfoot http:...|     0|[switchfoot, http...|[switchfoot, twit...|(10000,[1,10,16,6...|  0.0|\n",
      "|is upset that he ...|     0|[is, upset, that,...|[upset, update, f...|(10000,[6,70,172,...|  0.0|\n",
      "|@Kenichan I dived...|     0|[kenichan, i, div...|[kenichan, dived,...|(10000,[4,213,251...|  0.0|\n",
      "|my whole body fee...|     0|[my, whole, body,...|[whole, body, fee...|(10000,[3,325,374...|  0.0|\n",
      "|@nationwideclass ...|     0|[nationwideclass,...|[nationwideclass,...|(10000,[20,486],[...|  0.0|\n",
      "+--------------------+------+--------------------+--------------------+--------------------+-----+\n",
      "only showing top 5 rows\n",
      "\n"
     ]
    }
   ],
   "source": [
    "pipeline = Pipeline(stages=[regexTokenizer, stopwordsRemover, countVectors, label_stringIdx])\n",
    "pipelineFit = pipeline.fit(df)\n",
    "dataset = pipelineFit.transform(df)\n",
    "dataset.show(5)"
   ]
  },
  {
   "cell_type": "markdown",
   "metadata": {},
   "source": [
    "__Selecting data from the previous dataframe__"
   ]
  },
  {
   "cell_type": "code",
   "execution_count": 21,
   "metadata": {},
   "outputs": [],
   "source": [
    "dataset = dataset.select('text','features','label')"
   ]
  },
  {
   "cell_type": "markdown",
   "metadata": {},
   "source": [
    "__Set seed for reproducibility__\n",
    "\n",
    "This set is use for testing purposes 70/30 split"
   ]
  },
  {
   "cell_type": "code",
   "execution_count": 22,
   "metadata": {},
   "outputs": [
    {
     "name": "stdout",
     "output_type": "stream",
     "text": [
      "Training Dataset Count: 1120280\n",
      "Test Dataset Count: 479720\n"
     ]
    }
   ],
   "source": [
    "(trainingData, testData) = dataset.randomSplit([0.7, 0.3], seed = 100)\n",
    "print(\"Training Dataset Count: \" + str(trainingData.count()))\n",
    "print(\"Test Dataset Count: \" + str(testData.count()))"
   ]
  },
  {
   "cell_type": "markdown",
   "metadata": {},
   "source": [
    "This will be used to fully train our classifcation model"
   ]
  },
  {
   "cell_type": "code",
   "execution_count": 23,
   "metadata": {},
   "outputs": [
    {
     "name": "stdout",
     "output_type": "stream",
     "text": [
      "Full Training Dataset Count: 1600000\n"
     ]
    }
   ],
   "source": [
    "model_df = dataset.select('features','label')\n",
    "print(\"Full Training Dataset Count: \" + str(model_df.count()))"
   ]
  },
  {
   "cell_type": "markdown",
   "metadata": {},
   "source": [
    "__Testing our model through the split data above__"
   ]
  },
  {
   "cell_type": "code",
   "execution_count": 24,
   "metadata": {},
   "outputs": [
    {
     "name": "stdout",
     "output_type": "stream",
     "text": [
      "+------------------------------+------------------------------+-----+----------+\n",
      "|                          text|                   probability|label|prediction|\n",
      "+------------------------------+------------------------------+-----+----------+\n",
      "|@KoolioHoolio see i didnt e...|[0.9983509482201712,0.00164...|  1.0|       0.0|\n",
      "|you suck you suck you suck ...|[0.9956474979112804,0.00435...|  0.0|       0.0|\n",
      "|super pissed that another t...|[0.9952937171301914,0.00470...|  0.0|       0.0|\n",
      "|Things I'm feeling now: ang...|[0.9942597194931533,0.00574...|  0.0|       0.0|\n",
      "|so sad, me equal sad, no so...|[0.9926117815441087,0.00738...|  0.0|       0.0|\n",
      "|is feeling sad and stressed...|[0.9921148433314205,0.00788...|  0.0|       0.0|\n",
      "|today i kinda feel sick of ...|[0.9918217293827665,0.00817...|  0.0|       0.0|\n",
      "|Been sick with sore throat ...|[0.9900972897854806,0.00990...|  0.0|       0.0|\n",
      "|Throat is killing me, runny...|[0.9884381180833721,0.01156...|  0.0|       0.0|\n",
      "|Ugh my nose is stuffy, my t...|[0.9883616611740987,0.01163...|  0.0|       0.0|\n",
      "+------------------------------+------------------------------+-----+----------+\n",
      "only showing top 10 rows\n",
      "\n",
      "+--------------------+--------------------+-----+--------------------+--------------------+----------+\n",
      "|                text|            features|label|       rawPrediction|         probability|prediction|\n",
      "+--------------------+--------------------+-----+--------------------+--------------------+----------+\n",
      "|       i really2 ...|(10000,[3,5739],[...|  0.0|[0.20568669397803...|[0.55124114575112...|       0.0|\n",
      "|     jb isnt show...|(10000,[856,1150,...|  0.0|[0.46716578122309...|[0.61471271582069...|       0.0|\n",
      "|     ok thats it ...|(10000,[98,200,31...|  0.0|[-0.3317250925555...|[0.41782094086268...|       1.0|\n",
      "|    Not feeling i...|(10000,[6,54,104,...|  0.0|[1.83966456055162...|[0.86290903076261...|       0.0|\n",
      "|    on the comput...|(10000,[11,295,36...|  0.0|[0.16440935574308...|[0.54101000400038...|       0.0|\n",
      "|   BoRinG   ): wh...|(10000,[92,175,29...|  0.0|[0.65685508146551...|[0.65855357269296...|       0.0|\n",
      "|   Boston Globe c...|(10000,[66,72,222...|  0.0|[0.43332614758788...|[0.60666764143247...|       0.0|\n",
      "|   My phone can u...|(10000,[4,39,124,...|  0.0|[0.35321689180723...|[0.58739744882565...|       0.0|\n",
      "|   hoping to see ...|(10000,[20,171,17...|  0.0|[-0.1492856553285...|[0.46274774477281...|       1.0|\n",
      "|   i'm so cold th...|(10000,[35,223,70...|  0.0|[0.39772605268104...|[0.59814119743731...|       0.0|\n",
      "+--------------------+--------------------+-----+--------------------+--------------------+----------+\n",
      "only showing top 10 rows\n",
      "\n"
     ]
    }
   ],
   "source": [
    "lr = LogisticRegression(maxIter=20, regParam=0.3, elasticNetParam=0).fit(trainingData)\n",
    "predictions = lr.transform(testData)\n",
    "predictions.filter(predictions['prediction'] == 0) \\\n",
    "    .select(\"text\",\"probability\",\"label\",\"prediction\") \\\n",
    "    .orderBy(\"probability\", ascending=False) \\\n",
    "    .show(n = 10, truncate = 30)\n",
    "predictions = lr.transform(testData)\n",
    "predictions.show(10)"
   ]
  },
  {
   "cell_type": "code",
   "execution_count": 25,
   "metadata": {},
   "outputs": [
    {
     "name": "stdout",
     "output_type": "stream",
     "text": [
      "root\n",
      " |-- text: string (nullable = true)\n",
      " |-- features: vector (nullable = true)\n",
      " |-- label: double (nullable = false)\n",
      " |-- rawPrediction: vector (nullable = true)\n",
      " |-- probability: vector (nullable = true)\n",
      " |-- prediction: double (nullable = false)\n",
      "\n"
     ]
    }
   ],
   "source": [
    "predictions.printSchema()"
   ]
  },
  {
   "cell_type": "code",
   "execution_count": 26,
   "metadata": {},
   "outputs": [
    {
     "name": "stdout",
     "output_type": "stream",
     "text": [
      "Test Area Under ROC: 0.8472088126136625\n"
     ]
    }
   ],
   "source": [
    "from pyspark.ml.evaluation import BinaryClassificationEvaluator\n",
    "bce = BinaryClassificationEvaluator()\n",
    "print(\"Test Area Under ROC: \" + str(bce.evaluate(predictions, {bce.metricName: \"areaUnderROC\"})))"
   ]
  },
  {
   "cell_type": "code",
   "execution_count": 27,
   "metadata": {},
   "outputs": [],
   "source": [
    "df_selection = predictions.select(\"label\",'prediction').toPandas()"
   ]
  },
  {
   "cell_type": "code",
   "execution_count": 28,
   "metadata": {},
   "outputs": [
    {
     "name": "stdout",
     "output_type": "stream",
     "text": [
      "              precision    recall  f1-score   support\n",
      "\n",
      "         0.0       0.79      0.75      0.77    239942\n",
      "         1.0       0.76      0.80      0.78    239778\n",
      "\n",
      "    accuracy                           0.77    479720\n",
      "   macro avg       0.77      0.77      0.77    479720\n",
      "weighted avg       0.77      0.77      0.77    479720\n",
      "\n"
     ]
    }
   ],
   "source": [
    "from sklearn.metrics import classification_report\n",
    "true = np.array(df_selection['label'])\n",
    "pred = np.array(df_selection['prediction'])\n",
    "print(classification_report(true,pred))"
   ]
  },
  {
   "cell_type": "markdown",
   "metadata": {},
   "source": [
    "__We can say that this model is able to distinguish whether a tweet is positive or negative is fair__"
   ]
  },
  {
   "cell_type": "markdown",
   "metadata": {},
   "source": [
    "__Retrain our model using the fully dataset__"
   ]
  },
  {
   "cell_type": "code",
   "execution_count": 29,
   "metadata": {},
   "outputs": [],
   "source": [
    "lr = LogisticRegression(maxIter=20, regParam=0.3, elasticNetParam=0).fit(model_df)"
   ]
  },
  {
   "cell_type": "markdown",
   "metadata": {},
   "source": [
    "__Twitter Authentication__"
   ]
  },
  {
   "cell_type": "code",
   "execution_count": 30,
   "metadata": {},
   "outputs": [],
   "source": [
    "import tweepy\n",
    "from tweepy import OAuthHandler\n",
    "from tweepy import Stream\n",
    "\n",
    "ACCESS_TOKEN = \"1458842253779161088-QFeO6udaAdHR4VARxaDza1w4LUlooE\"\n",
    "ACCESS_TOKEN_SECRET = \"tC7IJDbl5T97Zvu3kE8sdGnmZWC2qxOrkdOv90YkdzIVO\"\n",
    "API_KEY = \"KLP5ct26qaVo0KjAgP8O4j4y5\"\n",
    "API_KEY_SECRET = \"AbxH3913WIPG0FHIwvVRomul92RWvuOdxRo2ecXR6H0Qgibo29\"\n",
    "\n",
    "auth = tweepy.OAuthHandler(API_KEY, API_KEY_SECRET)\n",
    "auth.set_access_token(ACCESS_TOKEN, ACCESS_TOKEN_SECRET)\n",
    "\n",
    "api = tweepy.API(auth)"
   ]
  },
  {
   "cell_type": "markdown",
   "metadata": {},
   "source": [
    "__Twitter Streaming Tweets__\n",
    "\n",
    "We can set the limit of tweet samples to 10 and where the streaming only streams tweets that are in english"
   ]
  },
  {
   "cell_type": "code",
   "execution_count": 31,
   "metadata": {
    "scrolled": true
   },
   "outputs": [
    {
     "name": "stderr",
     "output_type": "stream",
     "text": [
      "Stream connection closed by Twitter\n"
     ]
    }
   ],
   "source": [
    "tweet_list = list()\n",
    "# Subclass Stream to print IDs of Tweets received\n",
    "class IDPrinter(tweepy.Stream):\n",
    "    \n",
    "    def on_status(self, status):\n",
    "        tweet_list.append(status.text)\n",
    "        #print(tweet_list)\n",
    "        #print(status.text)\n",
    "        if len(tweet_list) == 100:\n",
    "            Stream.disconnect(self)\n",
    "# Initialize instance of the subclass\n",
    "printer = IDPrinter(\n",
    "  API_KEY, API_KEY_SECRET,\n",
    "  ACCESS_TOKEN, ACCESS_TOKEN_SECRET\n",
    ")\n",
    "\n",
    "printer.sample(languages=['en'])"
   ]
  },
  {
   "cell_type": "markdown",
   "metadata": {},
   "source": [
    "__Create new dataframe from tweet stream__"
   ]
  },
  {
   "cell_type": "code",
   "execution_count": 32,
   "metadata": {},
   "outputs": [
    {
     "name": "stdout",
     "output_type": "stream",
     "text": [
      "+--------------------+\n",
      "|                text|\n",
      "+--------------------+\n",
      "|RT @NotOwenMeany:...|\n",
      "|RT @CryptoTownEU:...|\n",
      "|RT @MCU_Source: B...|\n",
      "|@composerchris Th...|\n",
      "|i actually want t...|\n",
      "|RT @emailmanROCKS...|\n",
      "|RT @secretyarrow:...|\n",
      "|RT @UKFeetToes: B...|\n",
      "|RT @djrothkopf: M...|\n",
      "|RT @itsfkntxna: y...|\n",
      "|RT @Ahsanhoonmein...|\n",
      "|@kaslina Yah...no...|\n",
      "|RT @ohits_laurenn...|\n",
      "|RT @zhanxfxiah: *...|\n",
      "|@CSimmaWX @RColbu...|\n",
      "|RT @lucifrian: ta...|\n",
      "|get senjuro in th...|\n",
      "|@Yeonderella99 Po...|\n",
      "|RT @Matt_Stepp817...|\n",
      "|Certain actions b...|\n",
      "+--------------------+\n",
      "only showing top 20 rows\n",
      "\n"
     ]
    }
   ],
   "source": [
    "df_2 = pd.DataFrame(np.array(tweet_list))\n",
    "df_2.columns = ['text']\n",
    "df_2 = spark.createDataFrame(df_2)\n",
    "df_2.show()"
   ]
  },
  {
   "cell_type": "markdown",
   "metadata": {},
   "source": [
    "__Transforms the data received from stream__"
   ]
  },
  {
   "cell_type": "code",
   "execution_count": 33,
   "metadata": {},
   "outputs": [
    {
     "name": "stdout",
     "output_type": "stream",
     "text": [
      "+--------------------+--------------------+--------------------+--------------------+\n",
      "|                text|               words|            filtered|            features|\n",
      "+--------------------+--------------------+--------------------+--------------------+\n",
      "|RT @NotOwenMeany:...|[rt, notowenmeany...|[notowenmeany, dc...|(10000,[910,1208,...|\n",
      "|RT @CryptoTownEU:...|[rt, cryptotowneu...|[cryptotowneu, ai...|(10000,[40,263,34...|\n",
      "|RT @MCU_Source: B...|[rt, mcu_source, ...|[mcu_source, brea...|(10000,[90,1122,1...|\n",
      "|@composerchris Th...|[composerchris, t...|[composerchris, l...|(10000,[883,1612,...|\n",
      "|i actually want t...|[i, actually, wan...|[actually, want, ...|(10000,[26,187,73...|\n",
      "|RT @emailmanROCKS...|[rt, emailmanrock...|[emailmanrocks, r...|(10000,[38,145,59...|\n",
      "|RT @secretyarrow:...|[rt, secretyarrow...|[secretyarrow, lo...|(10000,[996,1122,...|\n",
      "|RT @UKFeetToes: B...|[rt, ukfeettoes, ...|[ukfeettoes, biki...|(10000,[8,699,717...|\n",
      "|RT @djrothkopf: M...|[rt, djrothkopf, ...|[djrothkopf, manc...|(10000,[4,6,66,93...|\n",
      "|RT @itsfkntxna: y...|[rt, itsfkntxna, ...|[itsfkntxna, allo...|(10000,[69,71,175...|\n",
      "|RT @Ahsanhoonmein...|[rt, ahsanhoonmei...|[ahsanhoonmein, s...|(10000,[597,1122,...|\n",
      "|@kaslina Yah...no...|[kaslina, yah, no...|[kaslina, yah, do...|(10000,[1124,1922...|\n",
      "|RT @ohits_laurenn...|[rt, ohits_lauren...|[ohits_laurenn, a...|(10000,[820,1204,...|\n",
      "|RT @zhanxfxiah: *...|[rt, zhanxfxiah, ...|[zhanxfxiah, masa...|(10000,[24,53,58,...|\n",
      "|@CSimmaWX @RColbu...|[csimmawx, rcolbu...|[csimmawx, rcolbu...|(10000,[1,127,334...|\n",
      "|RT @lucifrian: ta...|[rt, lucifrian, t...|[lucifrian, tae, ...|(10000,[126,250,2...|\n",
      "|get senjuro in th...|[get, senjuro, in...|[get, senjuro, po...|(10000,[2,90,304,...|\n",
      "|@Yeonderella99 Po...|[yeonderella99, p...|[yeonderella99, p...|(10000,[1022,6360...|\n",
      "|RT @Matt_Stepp817...|[rt, matt_stepp81...|[matt_stepp817, g...|(10000,[0,44,77,1...|\n",
      "|Certain actions b...|[certain, actions...|[certain, actions...|(10000,[3,6,27,34...|\n",
      "+--------------------+--------------------+--------------------+--------------------+\n",
      "only showing top 20 rows\n",
      "\n"
     ]
    }
   ],
   "source": [
    "dataset_1 = pipelineFit.transform(df_2)\n",
    "dataset_1.show()"
   ]
  },
  {
   "cell_type": "markdown",
   "metadata": {},
   "source": [
    "__Selecting text and Features__"
   ]
  },
  {
   "cell_type": "code",
   "execution_count": 34,
   "metadata": {},
   "outputs": [],
   "source": [
    "dataset_test = dataset_1.select('text','features')"
   ]
  },
  {
   "cell_type": "markdown",
   "metadata": {},
   "source": [
    "__Having the pre-trained model predict on tweets__"
   ]
  },
  {
   "cell_type": "code",
   "execution_count": 35,
   "metadata": {},
   "outputs": [],
   "source": [
    "model_predictions = lr.transform(dataset_test)"
   ]
  },
  {
   "cell_type": "code",
   "execution_count": 36,
   "metadata": {},
   "outputs": [
    {
     "name": "stdout",
     "output_type": "stream",
     "text": [
      "+--------------------+--------------------+--------------------+--------------------+----------+\n",
      "|                text|            features|       rawPrediction|         probability|prediction|\n",
      "+--------------------+--------------------+--------------------+--------------------+----------+\n",
      "|RT @NotOwenMeany:...|(10000,[910,1208,...|[-0.4205481364755...|[0.39638559333384...|       1.0|\n",
      "|RT @CryptoTownEU:...|(10000,[40,263,34...|[-0.2426675444595...|[0.43962908141970...|       1.0|\n",
      "|RT @MCU_Source: B...|(10000,[90,1122,1...|[-0.1111318162142...|[0.47224560461601...|       1.0|\n",
      "|@composerchris Th...|(10000,[883,1612,...|[0.33328114913442...|[0.58255751614137...|       0.0|\n",
      "|i actually want t...|(10000,[26,187,73...|[0.41763114414529...|[0.60291626474052...|       0.0|\n",
      "|RT @emailmanROCKS...|(10000,[38,145,59...|[-1.3859129547787...|[0.20006103199723...|       1.0|\n",
      "|RT @secretyarrow:...|(10000,[996,1122,...|[-0.1662206607879...|[0.45854024955908...|       1.0|\n",
      "|RT @UKFeetToes: B...|(10000,[8,699,717...|[-0.4050399582378...|[0.40010204030557...|       1.0|\n",
      "|RT @djrothkopf: M...|(10000,[4,6,66,93...|[0.45148455172166...|[0.61099214139275...|       0.0|\n",
      "|RT @itsfkntxna: y...|(10000,[69,71,175...|[0.81005702034367...|[0.69212165485828...|       0.0|\n",
      "|RT @Ahsanhoonmein...|(10000,[597,1122,...|[-0.5938158745110...|[0.35575979527720...|       1.0|\n",
      "|@kaslina Yah...no...|(10000,[1124,1922...|[-0.2401970645173...|[0.44023778785195...|       1.0|\n",
      "|RT @ohits_laurenn...|(10000,[820,1204,...|[0.30813505754837...|[0.57642998468577...|       0.0|\n",
      "|RT @zhanxfxiah: *...|(10000,[24,53,58,...|[-0.8388083176098...|[0.30178582542580...|       1.0|\n",
      "|@CSimmaWX @RColbu...|(10000,[1,127,334...|[-0.1438396953481...|[0.46410194862923...|       1.0|\n",
      "|RT @lucifrian: ta...|(10000,[126,250,2...|[-0.3218737575057...|[0.42021916678569...|       1.0|\n",
      "|get senjuro in th...|(10000,[2,90,304,...|[-0.4225067515623...|[0.39591706238032...|       1.0|\n",
      "|@Yeonderella99 Po...|(10000,[1022,6360...|[-0.3696149877333...|[0.40863405737944...|       1.0|\n",
      "|RT @Matt_Stepp817...|(10000,[0,44,77,1...|[-1.1734634905797...|[0.23622951275020...|       1.0|\n",
      "|Certain actions b...|(10000,[3,6,27,34...|[0.16488850878777...|[0.54112898407193...|       0.0|\n",
      "+--------------------+--------------------+--------------------+--------------------+----------+\n",
      "only showing top 20 rows\n",
      "\n"
     ]
    }
   ],
   "source": [
    "model_predictions.show()"
   ]
  },
  {
   "cell_type": "markdown",
   "metadata": {},
   "source": [
    "__Storing Results and Text in Database__"
   ]
  },
  {
   "cell_type": "markdown",
   "metadata": {},
   "source": [
    "Create connection to mongoDB, database, and table"
   ]
  },
  {
   "cell_type": "code",
   "execution_count": 37,
   "metadata": {},
   "outputs": [],
   "source": [
    "import pymongo\n",
    "myclient = pymongo.MongoClient(\"mongodb://localhost:27017/\")\n",
    "mydb = myclient[\"my_database\"]\n",
    "mycol = mydb[\"predictions\"]"
   ]
  },
  {
   "cell_type": "markdown",
   "metadata": {},
   "source": [
    "Converting spark dataframe to pandas dataframe"
   ]
  },
  {
   "cell_type": "code",
   "execution_count": 41,
   "metadata": {
    "scrolled": true
   },
   "outputs": [
    {
     "data": {
      "text/html": [
       "<div>\n",
       "<style scoped>\n",
       "    .dataframe tbody tr th:only-of-type {\n",
       "        vertical-align: middle;\n",
       "    }\n",
       "\n",
       "    .dataframe tbody tr th {\n",
       "        vertical-align: top;\n",
       "    }\n",
       "\n",
       "    .dataframe thead th {\n",
       "        text-align: right;\n",
       "    }\n",
       "</style>\n",
       "<table border=\"1\" class=\"dataframe\">\n",
       "  <thead>\n",
       "    <tr style=\"text-align: right;\">\n",
       "      <th></th>\n",
       "      <th>text</th>\n",
       "      <th>features</th>\n",
       "      <th>rawPrediction</th>\n",
       "      <th>probability</th>\n",
       "      <th>prediction</th>\n",
       "    </tr>\n",
       "  </thead>\n",
       "  <tbody>\n",
       "    <tr>\n",
       "      <th>0</th>\n",
       "      <td>RT @NotOwenMeany: DC Christmas Light Hunters: ...</td>\n",
       "      <td>(0.0, 0.0, 0.0, 0.0, 0.0, 0.0, 0.0, 0.0, 0.0, ...</td>\n",
       "      <td>[-0.42054813647552053, 0.42054813647552053]</td>\n",
       "      <td>[0.39638559333384943, 0.6036144066661506]</td>\n",
       "      <td>1.0</td>\n",
       "    </tr>\n",
       "    <tr>\n",
       "      <th>1</th>\n",
       "      <td>RT @CryptoTownEU: 🚀 Airdrop: BAoE Global\\n💰 Va...</td>\n",
       "      <td>(0.0, 0.0, 0.0, 0.0, 0.0, 0.0, 0.0, 0.0, 0.0, ...</td>\n",
       "      <td>[-0.24266754445953495, 0.24266754445953495]</td>\n",
       "      <td>[0.43962908141970913, 0.5603709185802909]</td>\n",
       "      <td>1.0</td>\n",
       "    </tr>\n",
       "    <tr>\n",
       "      <th>2</th>\n",
       "      <td>RT @MCU_Source: BREAKING: #Deadpool‘s first ap...</td>\n",
       "      <td>(0.0, 0.0, 0.0, 0.0, 0.0, 0.0, 0.0, 0.0, 0.0, ...</td>\n",
       "      <td>[-0.11113181621423963, 0.11113181621423963]</td>\n",
       "      <td>[0.47224560461601417, 0.5277543953839858]</td>\n",
       "      <td>1.0</td>\n",
       "    </tr>\n",
       "    <tr>\n",
       "      <th>3</th>\n",
       "      <td>@composerchris They should lose their tax exem...</td>\n",
       "      <td>(0.0, 0.0, 0.0, 0.0, 0.0, 0.0, 0.0, 0.0, 0.0, ...</td>\n",
       "      <td>[0.3332811491344227, -0.3332811491344227]</td>\n",
       "      <td>[0.5825575161413753, 0.4174424838586247]</td>\n",
       "      <td>0.0</td>\n",
       "    </tr>\n",
       "    <tr>\n",
       "      <th>4</th>\n",
       "      <td>i actually want to die.</td>\n",
       "      <td>(0.0, 0.0, 0.0, 0.0, 0.0, 0.0, 0.0, 0.0, 0.0, ...</td>\n",
       "      <td>[0.417631144145294, -0.417631144145294]</td>\n",
       "      <td>[0.6029162647405205, 0.3970837352594795]</td>\n",
       "      <td>0.0</td>\n",
       "    </tr>\n",
       "  </tbody>\n",
       "</table>\n",
       "</div>"
      ],
      "text/plain": [
       "                                                text  \\\n",
       "0  RT @NotOwenMeany: DC Christmas Light Hunters: ...   \n",
       "1  RT @CryptoTownEU: 🚀 Airdrop: BAoE Global\\n💰 Va...   \n",
       "2  RT @MCU_Source: BREAKING: #Deadpool‘s first ap...   \n",
       "3  @composerchris They should lose their tax exem...   \n",
       "4                            i actually want to die.   \n",
       "\n",
       "                                            features  \\\n",
       "0  (0.0, 0.0, 0.0, 0.0, 0.0, 0.0, 0.0, 0.0, 0.0, ...   \n",
       "1  (0.0, 0.0, 0.0, 0.0, 0.0, 0.0, 0.0, 0.0, 0.0, ...   \n",
       "2  (0.0, 0.0, 0.0, 0.0, 0.0, 0.0, 0.0, 0.0, 0.0, ...   \n",
       "3  (0.0, 0.0, 0.0, 0.0, 0.0, 0.0, 0.0, 0.0, 0.0, ...   \n",
       "4  (0.0, 0.0, 0.0, 0.0, 0.0, 0.0, 0.0, 0.0, 0.0, ...   \n",
       "\n",
       "                                 rawPrediction  \\\n",
       "0  [-0.42054813647552053, 0.42054813647552053]   \n",
       "1  [-0.24266754445953495, 0.24266754445953495]   \n",
       "2  [-0.11113181621423963, 0.11113181621423963]   \n",
       "3    [0.3332811491344227, -0.3332811491344227]   \n",
       "4      [0.417631144145294, -0.417631144145294]   \n",
       "\n",
       "                                 probability  prediction  \n",
       "0  [0.39638559333384943, 0.6036144066661506]         1.0  \n",
       "1  [0.43962908141970913, 0.5603709185802909]         1.0  \n",
       "2  [0.47224560461601417, 0.5277543953839858]         1.0  \n",
       "3   [0.5825575161413753, 0.4174424838586247]         0.0  \n",
       "4   [0.6029162647405205, 0.3970837352594795]         0.0  "
      ]
     },
     "execution_count": 41,
     "metadata": {},
     "output_type": "execute_result"
    }
   ],
   "source": [
    "mp_df = model_predictions.toPandas()\n",
    "mp_df.head()"
   ]
  },
  {
   "cell_type": "markdown",
   "metadata": {},
   "source": [
    "__Inserting into MongoDB__"
   ]
  },
  {
   "cell_type": "code",
   "execution_count": 42,
   "metadata": {},
   "outputs": [
    {
     "name": "stdout",
     "output_type": "stream",
     "text": [
      "RT @NotOwenMeany: DC Christmas Light Hunters: The area north of American University (roughly Van Ness to Davenport and 43rd to 49th streets… 1.0\n",
      "RT @CryptoTownEU: 🚀 Airdrop: BAoE Global\n",
      "💰 Value: 10 $BAoE\n",
      "👥 Referral: 3 $BAoE\n",
      "📒 Partnership: Groo INTERNATIONAL, Meta Ultra Holdings, SEM… 1.0\n",
      "RT @MCU_Source: BREAKING: #Deadpool‘s first appearance at the #MCU will be in #DoctorStrangeInTheMultiverseOfMadness! https://t.co/KZYAVcAC… 1.0\n",
      "@composerchris They should lose their tax exempt status 0.0\n",
      "i actually want to die. 0.0\n",
      "RT @emailmanROCKS: The Rules of Creative Writing by children's author Kurt Chambers https://t.co/lrQszZIoxL … This is a great guide to help… 1.0\n",
      "RT @secretyarrow: how’s it lookin daddy? https://t.co/EdUjUVIuSk 1.0\n",
      "RT @UKFeetToes: Bikini Body &amp; White Toes. Love those legs! https://t.co/xFYnY7AGSe 1.0\n",
      "RT @djrothkopf: Manchin did not have to say anything today. Did not have to go on Fox. Did not have to issue a statement. He could've kept… 0.0\n",
      "RT @itsfkntxna: you are allowed to criticize your own community and i hate to tell you this but other people are allowed to criticize your… 0.0\n",
      "RT @Ahsanhoonmein: Spread the word. https://t.co/jmBAjtbOI5 1.0\n",
      "@kaslina Yah...no doubt! 1.0\n",
      "RT @ohits_laurenn: i be asking for a sign then i be ignoring the sign 😂🤦🏾‍♀️ 0.0\n",
      "RT @zhanxfxiah: *masa sees yuki watching*\n",
      "\n",
      "Masa: \"Yuki definitely won't come/join though\" \n",
      "\n",
      "HE KNEW HIM ALL TOO WELL 🤣\n",
      "https://t.co/oDsx3aO… 1.0\n",
      "@CSimmaWX @RColburnnews @AlexCounteeWX @_WeatherStove @PatrickLloydTV Hopefully you went with Wilson JR @CSimmaWX  he’s having a huge day 1.0\n",
      "RT @lucifrian: tae: hyung look at my video with facial hair\n",
      "joon: ?\n",
      "joon: tae\n",
      "joon: tae where\n",
      "joon: tae\n",
      "joon: tae where isit\n",
      "joon: wheresth… 1.0\n",
      "get senjuro in the poll get him first place :( 1.0\n",
      "@Yeonderella99 Poji = Visual of the group wbk 😩❤️ 1.0\n",
      "RT @Matt_Stepp817: Good chance both 4A state champions end up in the same district next year....that ought to be fun #txhsfb @dctf 1.0\n",
      "Certain actions by NFL officials, like the spot on that last Titans’ play today, make you think things might not ex… https://t.co/V42NPWT3UL 0.0\n",
      "Oh just take a look at this! https://t.co/Rjbc48uSEj 1.0\n",
      "@larymary60 @jeremycorbyn Me too. 1.0\n",
      "RT @uhhchrxs: 🚀 @MekaApe PUBLIC SALES IS LIVE 🚀GO CONNECT YOUR WALLET NOW🔥\n",
      "\n",
      "THERE WILL NOT BE ENOUGH FOR EVERYONE! \n",
      "\n",
      "WELCOME TO MEKA APE FA… 1.0\n",
      "RT @STUDIO_0613: 👤taehyung they're just jealous bts is so popular &amp; has a lot of fans &amp; is doing well\n",
      "ignore them &amp; quietly enter the legal… 1.0\n",
      "RT @Michael_Jaayy: Tariq really his daddy's son🤣 #PowerBook2 #PowerGhost https://t.co/AdhGdjBNup 0.0\n",
      "My partner is literally the best he stayed over my place just to clean my room so I can be cozy after I got back fr… https://t.co/Yg9dn01nKk 1.0\n",
      "@OneLedgerTech @binance @PancakeSwap 🚀PAF DAO PRESALE WHITELISTING🚀\n",
      "🚨AUDIT &amp; KYC COMPLETED🚨\n",
      "🔥PRIVATE SALE AND AIRDR… https://t.co/DFlonhqchB 1.0\n",
      "@cryptopalis Hey, saw you've been looking at some NFT games like Wolf Game and WnD. I just found @PeopleGameNFT, th… https://t.co/1L6abtVzLb 1.0\n",
      "@GlexServices @manackz3 Done 1.0\n",
      "@M_J_C13 I understand why he's calling it. But it's different when lock was practicing it last year as the starter… https://t.co/QL5IEsPjXD 0.0\n",
      "@tori_mcelhaney @AtlantaFalcons Wait he was in the game? Bum ass 1.0\n",
      "Bike lanes and creativity.  Here's the governor of São Paulo, Brazil on the Pinheiros River bike lane, inaugurating… https://t.co/eCx8uKGUgI 1.0\n",
      "If I’m too much, go find less 0.0\n",
      "RT @jaeedimples: thank you our #nct127 we love you 💚 https://t.co/LEKnM7kjhM 1.0\n",
      "RT @TFGmykL: Just realized my mutant was up for sale and someone bought it 2 days ago😂\n",
      "\n",
      "Looks like one of you guys is gonna win my 3rd muta… 0.0\n",
      "@bloodstoppin when catholics kneel and open their mouth so the body of a man can enter.... 0.0\n",
      "RT @grade1to6: Next-Gen Math &amp; English Worksheets from https://t.co/CljkGA3gX4. Subscribe ($1.25 / Rs 100 a year) 6,000 Plus Worksheets for… 1.0\n",
      "RT @D_Kumii: I like the way mangaka maintain their privacy https://t.co/C1dTOomihJ 1.0\n",
      "@keeptalkinglol i guess i could do worse than Black Kimchi 😎 0.0\n",
      "RT @glamgamerbytch: Who in their right mind doesn’t like cheetah print I need to get a special cheetah print outfit for the ⁦@LingerieFC⁩ w… 1.0\n",
      "RT @misslefty_: PS. Goodnight Tito DJ😗\n",
      "\n",
      "2G2BT TeaserReveal\n",
      "#AnditoTayoParaSaKathNiel https://t.co/JKG8uOcTiJ 1.0\n",
      "@AngelRiveraXXX i do. ur so fkn cute 1.0\n",
      "thanks bro. i don't feel bad enough about not making enough money at work 🥲 0.0\n",
      "@CryptoTownEU I hope this project develops rapidly in the future, happy to be able to take part in this project… https://t.co/RaHubVer6k 1.0\n",
      "@CaniacZach @james_hockey61 @Canes @Chicago_Wolves He doesn't look better than Jarvis. You can think what you want,… https://t.co/M4jpSM4kxX 1.0\n",
      "Join me in my Space! https://t.co/xSuR0xBMNQ 1.0\n",
      "@guardian ...people hve died from the vaccines, blood clots, no matter how small the risk. People must be allowed t… https://t.co/V6eoRu68dw 0.0\n",
      "@kiramadeira I am aaaangry!!!! Been using them for over 10 years and this is how they repay me 😭 the survey I took… https://t.co/YoUdKu9MXq 1.0\n",
      "British tennis is in very good hands! @EmmaRaducanu 👏🏆 1.0\n",
      "Is she dead ?👇 https://t.co/10Fpt39zQQ 0.0\n",
      "@PAKA_FLOCKA Yea I think imma pass on this Taylor Jenkins rng lineup from the looks of it 1.0\n",
      "RT @wofai_xo: That kiss after you eat her out &gt;&gt;&gt;&gt;&gt;&gt;&gt;&gt; https://t.co/NMBAxqtAXs 1.0\n",
      "Steak your claim on this Legendary career opportunity with our #Plattsburgh, NY team: Host https://t.co/u73yAztk39 #Host 1.0\n",
      "RT @SmokinHotTX: It has been speculated that I never wear clothes...I actually do own them and wear them upon occasion. LOL.  But I think I… 1.0\n",
      "@CBSNews 7 Signs of weak immune system\n",
      "\n",
      "How to know if you have weak immune system to avoid any complications \n",
      "https://t.co/DWo0VX3ORU 0.0\n",
      "RT @russiemey: do you ever just go:\n",
      "\n",
      "🤢🤢🤢🤢        ✨💖💗💓💖✨\n",
      "🤮 men 🤮        💘 ran haitani 💘\n",
      "🤢🤢🤢🤢        ✨💖💗💓💖✨ 0.0\n",
      "@kvmhobi u look so pretty ! 1.0\n",
      "@LambertBrownJa Lambert Brown is Narsisistic. PERIOD. Please give up the stipend 1.0\n",
      "{\n",
      "  \"round\": 1484223,\n",
      "  \"signature\": \"b6ea4cd2162c0bc81e7d69114f6631438be1cf5fa1ed89359be94139fc22bd64b8e6d32471143… https://t.co/InRsXVDm5B 1.0\n",
      "grown ass woman. 1.0\n",
      "RT @fantasia_daily: When I’m singing When I See U around my friends and they don’t join in. 🚩🚩 https://t.co/0kQ4p49QGH 1.0\n",
      "That 3rd down scramble was so good from Burrow\n",
      "\n",
      "Loops, stunts. Stayed patient, let his OL pick it up. Picked his sp… https://t.co/tA0azcD8Qc 1.0\n",
      "RT @ashleysimpo: Now is a good time to reassess who gets to take up space in your life and your mind.\n",
      "\n",
      "That includes who you follow on soci… 1.0\n",
      "RT @cottontail0112: present for you♥ https://t.co/UY8v3Cyr27 1.0\n",
      "Don't forget to take your supplements. They'll make you even stronger! 1.0\n",
      "@yoongisducky g'night, sleep well ! ♡ 1.0\n",
      "RT @bitchimcierra: ima be single forever niggas don’t excite me nm😭🥴 0.0\n",
      "@ollybarratt Does he watch MOTD? 1.0\n",
      "@MouseOfReason You don't think your followers see your behavior? Why do you think I don't just block you? lol. \n",
      "\n",
      "Yo… https://t.co/qxvgLyCpyY 1.0\n",
      "Actually nuts 1.0\n",
      "@DeonFialkov7775 Try @caltechack on @Instagram his a good hacker he help me recover my wallet account.  When I met… https://t.co/Ge4SQ6RbjU 1.0\n",
      "WHAT DO YOU MEAN NOT CUTE https://t.co/qUi6fmoYRY 1.0\n",
      "@CitrusWavez no. who does that. 1.0\n",
      "@xxynchim happy monday, have a nice day and be happy for today dela ! 🥰🌷 1.0\n",
      "RT @blacksunflower: Grateful for life, love, breath and of course coffee. In all things strive for balance, less ego and more love. When yo… 1.0\n",
      "@nurirast Wow really sexy 😍👍🏻 1.0\n",
      "RT @BenstarDEV: slooooooow curve https://t.co/II6992Pnsy 1.0\n",
      "RT @GravelInstitute: Socialist candidate Gabriel Boric has won Chile's presidential election, beating a far-right candidate who supports Tr… 1.0\n",
      "RT @vpungs: If I’m honest I don’t think I’ve processed many emotions this year. Traumatic things have happened and I feel like there’s been… 0.0\n",
      "RT @alley_junk: @kamenism also people who cry abt China never really care abt the specific event beyond the sensationalized 2 week news cyc… 0.0\n",
      "RT @_Teajahlashae: Somebody said “I can’t wait to live, I just been surviving \" and I felt that 0.0\n",
      "@drajm @vanbadham Or a very large and excited red setter. 1.0\n",
      "bring the dead chinchilla chat member. 0.0\n",
      "@eagle4congress @TrishT1966 @NikkiFried @ChristinaPushaw Hers is real 🤷‍♂️ 1.0\n",
      "RT @wayydaminn: Be your best friend. Be your gym partner. Be self motivated. Be your partner in crime. Be everything for yourself rather th… 1.0\n",
      "@ace_maddie They don’t know what to do when someone follows the rules.  Matter of fact, they probably don’t know th… https://t.co/VgrZGUpaXv 1.0\n",
      "@CryptoSenorita 2021 wrapped in a GIF 1.0\n",
      "RT @avalanche_edin: Just bought 800 LPs and 4,500 CDs from an old customer. Everything from Low to techno with a massive helping of Scottis… 0.0\n"
     ]
    },
    {
     "name": "stdout",
     "output_type": "stream",
     "text": [
      "@DRiveraTX @creatureNFT @dannycoleee Hahahah my apologies but I couldn’t leave him there!! 0.0\n",
      "@SteveSkojec I'm sneaking up, kamikaze style. You will receive a 2 hour warning. I'll bring the cocktail fixins. 1.0\n",
      "RT @FaazNoushad: @ClippedHussar Me (who've also avoided catching COVID every wave.) https://t.co/RK3BLaBwbZ 1.0\n",
      "RT @caro_painter: A little #behindthescenes of our lives  @caenhillcc 😁\n",
      "Live everyday on Facebook, Youtube and TikTok updating you about th… 1.0\n",
      "If you used my Social and got cash or a car and have kids I don’t feel sorry for you. Watch what happens. 0.0\n",
      "RT @dobsalvatore: the way they look at eo 🔥 https://t.co/CWv4OME8h2 1.0\n",
      "@sswidamh @erecalie r u 1000000% over them? or is there a small part of you that still would 0.0\n",
      "@CarlonCarpenter Playing out from the back. Largely situational, can be something you do more often than other teams, High risk/high reward 1.0\n",
      "Aaron breaking the record tonight 0.0\n",
      "RT @chartdata: .@BTS_twt's \"Permission to Dance\" has now surpassed 400 million views on YouTube. 1.0\n",
      "CD Media ¦ 99% In Democratic Party Referendum Vote To Oust Albanian Opposition Leader Basha https://t.co/1Ex8Bk6z0V 1.0\n",
      "i’m sorry but sometimes i hate my soft ass friends bc once we argue bxches jus irking … then we got my hard friends… https://t.co/7UcNQNUttw 0.0\n"
     ]
    }
   ],
   "source": [
    "for index, row in mp_df.iterrows():\n",
    "    #print(row['text'], row['prediction'])\n",
    "    mydict = { \"text\": row['text'], \"prediction\": row['prediction'] }\n",
    "    mycol.insert_one(mydict)"
   ]
  },
  {
   "cell_type": "markdown",
   "metadata": {},
   "source": [
    "__Definitions__\n",
    "\n",
    "0.0 means that the tweet was negative\n",
    "\n",
    "1.0 means that the tweet was positive"
   ]
  },
  {
   "cell_type": "markdown",
   "metadata": {},
   "source": [
    "__Retrieving Positive Tweets__"
   ]
  },
  {
   "cell_type": "code",
   "execution_count": 47,
   "metadata": {},
   "outputs": [
    {
     "name": "stdout",
     "output_type": "stream",
     "text": [
      "{'_id': ObjectId('61bfc4d9b8bc24cd819b369c'), 'text': 'RT @NotOwenMeany: DC Christmas Light Hunters: The area north of American University (roughly Van Ness to Davenport and 43rd to 49th streets…', 'prediction': 1.0}\n",
      "{'_id': ObjectId('61bfc4d9b8bc24cd819b369d'), 'text': 'RT @CryptoTownEU: 🚀 Airdrop: BAoE Global\\n💰 Value: 10 $BAoE\\n👥 Referral: 3 $BAoE\\n📒 Partnership: Groo INTERNATIONAL, Meta Ultra Holdings, SEM…', 'prediction': 1.0}\n",
      "{'_id': ObjectId('61bfc4d9b8bc24cd819b369e'), 'text': 'RT @MCU_Source: BREAKING: #Deadpool‘s first appearance at the #MCU will be in #DoctorStrangeInTheMultiverseOfMadness! https://t.co/KZYAVcAC…', 'prediction': 1.0}\n",
      "{'_id': ObjectId('61bfc4d9b8bc24cd819b36a1'), 'text': \"RT @emailmanROCKS: The Rules of Creative Writing by children's author Kurt Chambers https://t.co/lrQszZIoxL … This is a great guide to help…\", 'prediction': 1.0}\n",
      "{'_id': ObjectId('61bfc4d9b8bc24cd819b36a2'), 'text': 'RT @secretyarrow: how’s it lookin daddy? https://t.co/EdUjUVIuSk', 'prediction': 1.0}\n",
      "{'_id': ObjectId('61bfc4d9b8bc24cd819b36a3'), 'text': 'RT @UKFeetToes: Bikini Body &amp; White Toes. Love those legs! https://t.co/xFYnY7AGSe', 'prediction': 1.0}\n",
      "{'_id': ObjectId('61bfc4d9b8bc24cd819b36a6'), 'text': 'RT @Ahsanhoonmein: Spread the word. https://t.co/jmBAjtbOI5', 'prediction': 1.0}\n",
      "{'_id': ObjectId('61bfc4d9b8bc24cd819b36a7'), 'text': '@kaslina Yah...no doubt!', 'prediction': 1.0}\n",
      "{'_id': ObjectId('61bfc4d9b8bc24cd819b36a9'), 'text': 'RT @zhanxfxiah: *masa sees yuki watching*\\n\\nMasa: \"Yuki definitely won\\'t come/join though\" \\n\\nHE KNEW HIM ALL TOO WELL 🤣\\nhttps://t.co/oDsx3aO…', 'prediction': 1.0}\n",
      "{'_id': ObjectId('61bfc4d9b8bc24cd819b36aa'), 'text': '@CSimmaWX @RColburnnews @AlexCounteeWX @_WeatherStove @PatrickLloydTV Hopefully you went with Wilson JR @CSimmaWX  he’s having a huge day', 'prediction': 1.0}\n",
      "{'_id': ObjectId('61bfc4d9b8bc24cd819b36ab'), 'text': 'RT @lucifrian: tae: hyung look at my video with facial hair\\njoon: ?\\njoon: tae\\njoon: tae where\\njoon: tae\\njoon: tae where isit\\njoon: wheresth…', 'prediction': 1.0}\n",
      "{'_id': ObjectId('61bfc4d9b8bc24cd819b36ac'), 'text': 'get senjuro in the poll get him first place :(', 'prediction': 1.0}\n",
      "{'_id': ObjectId('61bfc4d9b8bc24cd819b36ad'), 'text': '@Yeonderella99 Poji = Visual of the group wbk 😩❤️', 'prediction': 1.0}\n",
      "{'_id': ObjectId('61bfc4d9b8bc24cd819b36ae'), 'text': 'RT @Matt_Stepp817: Good chance both 4A state champions end up in the same district next year....that ought to be fun #txhsfb @dctf', 'prediction': 1.0}\n",
      "{'_id': ObjectId('61bfc4d9b8bc24cd819b36b0'), 'text': 'Oh just take a look at this! https://t.co/Rjbc48uSEj', 'prediction': 1.0}\n",
      "{'_id': ObjectId('61bfc4d9b8bc24cd819b36b1'), 'text': '@larymary60 @jeremycorbyn Me too.', 'prediction': 1.0}\n",
      "{'_id': ObjectId('61bfc4d9b8bc24cd819b36b2'), 'text': 'RT @uhhchrxs: 🚀 @MekaApe PUBLIC SALES IS LIVE 🚀GO CONNECT YOUR WALLET NOW🔥\\n\\nTHERE WILL NOT BE ENOUGH FOR EVERYONE! \\n\\nWELCOME TO MEKA APE FA…', 'prediction': 1.0}\n",
      "{'_id': ObjectId('61bfc4d9b8bc24cd819b36b3'), 'text': \"RT @STUDIO_0613: 👤taehyung they're just jealous bts is so popular &amp; has a lot of fans &amp; is doing well\\nignore them &amp; quietly enter the legal…\", 'prediction': 1.0}\n",
      "{'_id': ObjectId('61bfc4d9b8bc24cd819b36b5'), 'text': 'My partner is literally the best he stayed over my place just to clean my room so I can be cozy after I got back fr… https://t.co/Yg9dn01nKk', 'prediction': 1.0}\n",
      "{'_id': ObjectId('61bfc4d9b8bc24cd819b36b6'), 'text': '@OneLedgerTech @binance @PancakeSwap 🚀PAF DAO PRESALE WHITELISTING🚀\\n🚨AUDIT &amp; KYC COMPLETED🚨\\n🔥PRIVATE SALE AND AIRDR… https://t.co/DFlonhqchB', 'prediction': 1.0}\n",
      "{'_id': ObjectId('61bfc4d9b8bc24cd819b36b7'), 'text': \"@cryptopalis Hey, saw you've been looking at some NFT games like Wolf Game and WnD. I just found @PeopleGameNFT, th… https://t.co/1L6abtVzLb\", 'prediction': 1.0}\n",
      "{'_id': ObjectId('61bfc4d9b8bc24cd819b36b8'), 'text': '@GlexServices @manackz3 Done', 'prediction': 1.0}\n",
      "{'_id': ObjectId('61bfc4d9b8bc24cd819b36ba'), 'text': '@tori_mcelhaney @AtlantaFalcons Wait he was in the game? Bum ass', 'prediction': 1.0}\n",
      "{'_id': ObjectId('61bfc4d9b8bc24cd819b36bb'), 'text': \"Bike lanes and creativity.  Here's the governor of São Paulo, Brazil on the Pinheiros River bike lane, inaugurating… https://t.co/eCx8uKGUgI\", 'prediction': 1.0}\n",
      "{'_id': ObjectId('61bfc4d9b8bc24cd819b36bd'), 'text': 'RT @jaeedimples: thank you our #nct127 we love you 💚 https://t.co/LEKnM7kjhM', 'prediction': 1.0}\n",
      "{'_id': ObjectId('61bfc4d9b8bc24cd819b36c0'), 'text': 'RT @grade1to6: Next-Gen Math &amp; English Worksheets from https://t.co/CljkGA3gX4. Subscribe ($1.25 / Rs 100 a year) 6,000 Plus Worksheets for…', 'prediction': 1.0}\n",
      "{'_id': ObjectId('61bfc4d9b8bc24cd819b36c1'), 'text': 'RT @D_Kumii: I like the way mangaka maintain their privacy https://t.co/C1dTOomihJ', 'prediction': 1.0}\n",
      "{'_id': ObjectId('61bfc4d9b8bc24cd819b36c3'), 'text': 'RT @glamgamerbytch: Who in their right mind doesn’t like cheetah print I need to get a special cheetah print outfit for the \\u2066@LingerieFC\\u2069 w…', 'prediction': 1.0}\n",
      "{'_id': ObjectId('61bfc4d9b8bc24cd819b36c4'), 'text': 'RT @misslefty_: PS. Goodnight Tito DJ😗\\n\\n2G2BT TeaserReveal\\n#AnditoTayoParaSaKathNiel https://t.co/JKG8uOcTiJ', 'prediction': 1.0}\n",
      "{'_id': ObjectId('61bfc4d9b8bc24cd819b36c5'), 'text': '@AngelRiveraXXX i do. ur so fkn cute', 'prediction': 1.0}\n",
      "{'_id': ObjectId('61bfc4d9b8bc24cd819b36c7'), 'text': '@CryptoTownEU I hope this project develops rapidly in the future, happy to be able to take part in this project… https://t.co/RaHubVer6k', 'prediction': 1.0}\n",
      "{'_id': ObjectId('61bfc4d9b8bc24cd819b36c8'), 'text': \"@CaniacZach @james_hockey61 @Canes @Chicago_Wolves He doesn't look better than Jarvis. You can think what you want,… https://t.co/M4jpSM4kxX\", 'prediction': 1.0}\n",
      "{'_id': ObjectId('61bfc4d9b8bc24cd819b36c9'), 'text': 'Join me in my Space! https://t.co/xSuR0xBMNQ', 'prediction': 1.0}\n",
      "{'_id': ObjectId('61bfc4d9b8bc24cd819b36cb'), 'text': '@kiramadeira I am aaaangry!!!! Been using them for over 10 years and this is how they repay me 😭 the survey I took… https://t.co/YoUdKu9MXq', 'prediction': 1.0}\n",
      "{'_id': ObjectId('61bfc4d9b8bc24cd819b36cc'), 'text': 'British tennis is in very good hands! @EmmaRaducanu 👏🏆', 'prediction': 1.0}\n",
      "{'_id': ObjectId('61bfc4d9b8bc24cd819b36ce'), 'text': '@PAKA_FLOCKA Yea I think imma pass on this Taylor Jenkins rng lineup from the looks of it', 'prediction': 1.0}\n",
      "{'_id': ObjectId('61bfc4d9b8bc24cd819b36cf'), 'text': 'RT @wofai_xo: That kiss after you eat her out &gt;&gt;&gt;&gt;&gt;&gt;&gt;&gt; https://t.co/NMBAxqtAXs', 'prediction': 1.0}\n",
      "{'_id': ObjectId('61bfc4d9b8bc24cd819b36d0'), 'text': 'Steak your claim on this Legendary career opportunity with our #Plattsburgh, NY team: Host https://t.co/u73yAztk39 #Host', 'prediction': 1.0}\n",
      "{'_id': ObjectId('61bfc4d9b8bc24cd819b36d1'), 'text': 'RT @SmokinHotTX: It has been speculated that I never wear clothes...I actually do own them and wear them upon occasion. LOL.  But I think I…', 'prediction': 1.0}\n",
      "{'_id': ObjectId('61bfc4d9b8bc24cd819b36d4'), 'text': '@kvmhobi u look so pretty !', 'prediction': 1.0}\n",
      "{'_id': ObjectId('61bfc4d9b8bc24cd819b36d5'), 'text': '@LambertBrownJa Lambert Brown is Narsisistic. PERIOD. Please give up the stipend', 'prediction': 1.0}\n",
      "{'_id': ObjectId('61bfc4d9b8bc24cd819b36d6'), 'text': '{\\n  \"round\": 1484223,\\n  \"signature\": \"b6ea4cd2162c0bc81e7d69114f6631438be1cf5fa1ed89359be94139fc22bd64b8e6d32471143… https://t.co/InRsXVDm5B', 'prediction': 1.0}\n",
      "{'_id': ObjectId('61bfc4d9b8bc24cd819b36d7'), 'text': 'grown ass woman.', 'prediction': 1.0}\n",
      "{'_id': ObjectId('61bfc4d9b8bc24cd819b36d8'), 'text': 'RT @fantasia_daily: When I’m singing When I See U around my friends and they don’t join in. 🚩🚩 https://t.co/0kQ4p49QGH', 'prediction': 1.0}\n",
      "{'_id': ObjectId('61bfc4d9b8bc24cd819b36d9'), 'text': 'That 3rd down scramble was so good from Burrow\\n\\nLoops, stunts. Stayed patient, let his OL pick it up. Picked his sp… https://t.co/tA0azcD8Qc', 'prediction': 1.0}\n",
      "{'_id': ObjectId('61bfc4d9b8bc24cd819b36da'), 'text': 'RT @ashleysimpo: Now is a good time to reassess who gets to take up space in your life and your mind.\\n\\nThat includes who you follow on soci…', 'prediction': 1.0}\n",
      "{'_id': ObjectId('61bfc4d9b8bc24cd819b36db'), 'text': 'RT @cottontail0112: present for you♥ https://t.co/UY8v3Cyr27', 'prediction': 1.0}\n",
      "{'_id': ObjectId('61bfc4d9b8bc24cd819b36dc'), 'text': \"Don't forget to take your supplements. They'll make you even stronger!\", 'prediction': 1.0}\n",
      "{'_id': ObjectId('61bfc4d9b8bc24cd819b36dd'), 'text': \"@yoongisducky g'night, sleep well ! ♡\", 'prediction': 1.0}\n",
      "{'_id': ObjectId('61bfc4d9b8bc24cd819b36df'), 'text': '@ollybarratt Does he watch MOTD?', 'prediction': 1.0}\n",
      "{'_id': ObjectId('61bfc4d9b8bc24cd819b36e0'), 'text': \"@MouseOfReason You don't think your followers see your behavior? Why do you think I don't just block you? lol. \\n\\nYo… https://t.co/qxvgLyCpyY\", 'prediction': 1.0}\n",
      "{'_id': ObjectId('61bfc4d9b8bc24cd819b36e1'), 'text': 'Actually nuts', 'prediction': 1.0}\n",
      "{'_id': ObjectId('61bfc4d9b8bc24cd819b36e2'), 'text': '@DeonFialkov7775 Try @caltechack on @Instagram his a good hacker he help me recover my wallet account.  When I met… https://t.co/Ge4SQ6RbjU', 'prediction': 1.0}\n",
      "{'_id': ObjectId('61bfc4d9b8bc24cd819b36e3'), 'text': 'WHAT DO YOU MEAN NOT CUTE https://t.co/qUi6fmoYRY', 'prediction': 1.0}\n",
      "{'_id': ObjectId('61bfc4d9b8bc24cd819b36e4'), 'text': '@CitrusWavez no. who does that.', 'prediction': 1.0}\n",
      "{'_id': ObjectId('61bfc4d9b8bc24cd819b36e5'), 'text': '@xxynchim happy monday, have a nice day and be happy for today dela ! 🥰🌷', 'prediction': 1.0}\n",
      "{'_id': ObjectId('61bfc4d9b8bc24cd819b36e6'), 'text': 'RT @blacksunflower: Grateful for life, love, breath and of course coffee. In all things strive for balance, less ego and more love. When yo…', 'prediction': 1.0}\n",
      "{'_id': ObjectId('61bfc4d9b8bc24cd819b36e7'), 'text': '@nurirast Wow really sexy 😍👍🏻', 'prediction': 1.0}\n",
      "{'_id': ObjectId('61bfc4d9b8bc24cd819b36e8'), 'text': 'RT @BenstarDEV: slooooooow curve https://t.co/II6992Pnsy', 'prediction': 1.0}\n",
      "{'_id': ObjectId('61bfc4d9b8bc24cd819b36e9'), 'text': \"RT @GravelInstitute: Socialist candidate Gabriel Boric has won Chile's presidential election, beating a far-right candidate who supports Tr…\", 'prediction': 1.0}\n",
      "{'_id': ObjectId('61bfc4d9b8bc24cd819b36ed'), 'text': '@drajm @vanbadham Or a very large and excited red setter.', 'prediction': 1.0}\n",
      "{'_id': ObjectId('61bfc4d9b8bc24cd819b36ef'), 'text': '@eagle4congress @TrishT1966 @NikkiFried @ChristinaPushaw Hers is real 🤷\\u200d♂️', 'prediction': 1.0}\n",
      "{'_id': ObjectId('61bfc4d9b8bc24cd819b36f0'), 'text': 'RT @wayydaminn: Be your best friend. Be your gym partner. Be self motivated. Be your partner in crime. Be everything for yourself rather th…', 'prediction': 1.0}\n",
      "{'_id': ObjectId('61bfc4d9b8bc24cd819b36f1'), 'text': '@ace_maddie They don’t know what to do when someone follows the rules.  Matter of fact, they probably don’t know th… https://t.co/VgrZGUpaXv', 'prediction': 1.0}\n",
      "{'_id': ObjectId('61bfc4d9b8bc24cd819b36f2'), 'text': '@CryptoSenorita 2021 wrapped in a GIF', 'prediction': 1.0}\n",
      "{'_id': ObjectId('61bfc4d9b8bc24cd819b36f5'), 'text': \"@SteveSkojec I'm sneaking up, kamikaze style. You will receive a 2 hour warning. I'll bring the cocktail fixins.\", 'prediction': 1.0}\n",
      "{'_id': ObjectId('61bfc4d9b8bc24cd819b36f6'), 'text': \"RT @FaazNoushad: @ClippedHussar Me (who've also avoided catching COVID every wave.) https://t.co/RK3BLaBwbZ\", 'prediction': 1.0}\n",
      "{'_id': ObjectId('61bfc4d9b8bc24cd819b36f7'), 'text': 'RT @caro_painter: A little #behindthescenes of our lives  @caenhillcc 😁\\nLive everyday on Facebook, Youtube and TikTok updating you about th…', 'prediction': 1.0}\n",
      "{'_id': ObjectId('61bfc4d9b8bc24cd819b36f9'), 'text': 'RT @dobsalvatore: the way they look at eo 🔥 https://t.co/CWv4OME8h2', 'prediction': 1.0}\n",
      "{'_id': ObjectId('61bfc4d9b8bc24cd819b36fb'), 'text': '@CarlonCarpenter Playing out from the back. Largely situational, can be something you do more often than other teams, High risk/high reward', 'prediction': 1.0}\n",
      "{'_id': ObjectId('61bfc4d9b8bc24cd819b36fd'), 'text': 'RT @chartdata: .@BTS_twt\\'s \"Permission to Dance\" has now surpassed 400 million views on YouTube.', 'prediction': 1.0}\n",
      "{'_id': ObjectId('61bfc4d9b8bc24cd819b36fe'), 'text': 'CD Media ¦ 99% In Democratic Party Referendum Vote To Oust Albanian Opposition Leader Basha https://t.co/1Ex8Bk6z0V', 'prediction': 1.0}\n"
     ]
    }
   ],
   "source": [
    "myquery = { \"prediction\": 1.0 }\n",
    "mydoc = mycol.find(myquery)\n",
    "for x in mydoc:\n",
    "    print(x)"
   ]
  },
  {
   "cell_type": "markdown",
   "metadata": {},
   "source": [
    "__Retrieving Negative Tweets__"
   ]
  },
  {
   "cell_type": "code",
   "execution_count": 48,
   "metadata": {},
   "outputs": [
    {
     "name": "stdout",
     "output_type": "stream",
     "text": [
      "{'_id': ObjectId('61bfc4d9b8bc24cd819b369f'), 'text': '@composerchris They should lose their tax exempt status', 'prediction': 0.0}\n",
      "{'_id': ObjectId('61bfc4d9b8bc24cd819b36a0'), 'text': 'i actually want to die.', 'prediction': 0.0}\n",
      "{'_id': ObjectId('61bfc4d9b8bc24cd819b36a4'), 'text': \"RT @djrothkopf: Manchin did not have to say anything today. Did not have to go on Fox. Did not have to issue a statement. He could've kept…\", 'prediction': 0.0}\n",
      "{'_id': ObjectId('61bfc4d9b8bc24cd819b36a5'), 'text': 'RT @itsfkntxna: you are allowed to criticize your own community and i hate to tell you this but other people are allowed to criticize your…', 'prediction': 0.0}\n",
      "{'_id': ObjectId('61bfc4d9b8bc24cd819b36a8'), 'text': 'RT @ohits_laurenn: i be asking for a sign then i be ignoring the sign 😂🤦🏾\\u200d♀️', 'prediction': 0.0}\n",
      "{'_id': ObjectId('61bfc4d9b8bc24cd819b36af'), 'text': 'Certain actions by NFL officials, like the spot on that last Titans’ play today, make you think things might not ex… https://t.co/V42NPWT3UL', 'prediction': 0.0}\n",
      "{'_id': ObjectId('61bfc4d9b8bc24cd819b36b4'), 'text': \"RT @Michael_Jaayy: Tariq really his daddy's son🤣 #PowerBook2 #PowerGhost https://t.co/AdhGdjBNup\", 'prediction': 0.0}\n",
      "{'_id': ObjectId('61bfc4d9b8bc24cd819b36b9'), 'text': \"@M_J_C13 I understand why he's calling it. But it's different when lock was practicing it last year as the starter… https://t.co/QL5IEsPjXD\", 'prediction': 0.0}\n",
      "{'_id': ObjectId('61bfc4d9b8bc24cd819b36bc'), 'text': 'If I’m too much, go find less', 'prediction': 0.0}\n",
      "{'_id': ObjectId('61bfc4d9b8bc24cd819b36be'), 'text': 'RT @TFGmykL: Just realized my mutant was up for sale and someone bought it 2 days ago😂\\n\\nLooks like one of you guys is gonna win my 3rd muta…', 'prediction': 0.0}\n",
      "{'_id': ObjectId('61bfc4d9b8bc24cd819b36bf'), 'text': '@bloodstoppin when catholics kneel and open their mouth so the body of a man can enter....', 'prediction': 0.0}\n",
      "{'_id': ObjectId('61bfc4d9b8bc24cd819b36c2'), 'text': '@keeptalkinglol i guess i could do worse than Black Kimchi 😎', 'prediction': 0.0}\n",
      "{'_id': ObjectId('61bfc4d9b8bc24cd819b36c6'), 'text': \"thanks bro. i don't feel bad enough about not making enough money at work \\U0001f972\", 'prediction': 0.0}\n",
      "{'_id': ObjectId('61bfc4d9b8bc24cd819b36ca'), 'text': '@guardian ...people hve died from the vaccines, blood clots, no matter how small the risk. People must be allowed t… https://t.co/V6eoRu68dw', 'prediction': 0.0}\n",
      "{'_id': ObjectId('61bfc4d9b8bc24cd819b36cd'), 'text': 'Is she dead ?👇 https://t.co/10Fpt39zQQ', 'prediction': 0.0}\n",
      "{'_id': ObjectId('61bfc4d9b8bc24cd819b36d2'), 'text': '@CBSNews 7 Signs of weak immune system\\n\\nHow to know if you have weak immune system to avoid any complications \\nhttps://t.co/DWo0VX3ORU', 'prediction': 0.0}\n",
      "{'_id': ObjectId('61bfc4d9b8bc24cd819b36d3'), 'text': 'RT @russiemey: do you ever just go:\\n\\n🤢🤢🤢🤢        ✨💖💗💓💖✨\\n🤮 men 🤮        💘 ran haitani 💘\\n🤢🤢🤢🤢        ✨💖💗💓💖✨', 'prediction': 0.0}\n",
      "{'_id': ObjectId('61bfc4d9b8bc24cd819b36de'), 'text': 'RT @bitchimcierra: ima be single forever niggas don’t excite me nm😭🥴', 'prediction': 0.0}\n",
      "{'_id': ObjectId('61bfc4d9b8bc24cd819b36ea'), 'text': 'RT @vpungs: If I’m honest I don’t think I’ve processed many emotions this year. Traumatic things have happened and I feel like there’s been…', 'prediction': 0.0}\n",
      "{'_id': ObjectId('61bfc4d9b8bc24cd819b36eb'), 'text': 'RT @alley_junk: @kamenism also people who cry abt China never really care abt the specific event beyond the sensationalized 2 week news cyc…', 'prediction': 0.0}\n",
      "{'_id': ObjectId('61bfc4d9b8bc24cd819b36ec'), 'text': 'RT @_Teajahlashae: Somebody said “I can’t wait to live, I just been surviving \" and I felt that', 'prediction': 0.0}\n",
      "{'_id': ObjectId('61bfc4d9b8bc24cd819b36ee'), 'text': 'bring the dead chinchilla chat member.', 'prediction': 0.0}\n",
      "{'_id': ObjectId('61bfc4d9b8bc24cd819b36f3'), 'text': 'RT @avalanche_edin: Just bought 800 LPs and 4,500 CDs from an old customer. Everything from Low to techno with a massive helping of Scottis…', 'prediction': 0.0}\n",
      "{'_id': ObjectId('61bfc4d9b8bc24cd819b36f4'), 'text': '@DRiveraTX @creatureNFT @dannycoleee Hahahah my apologies but I couldn’t leave him there!!', 'prediction': 0.0}\n",
      "{'_id': ObjectId('61bfc4d9b8bc24cd819b36f8'), 'text': 'If you used my Social and got cash or a car and have kids I don’t feel sorry for you. Watch what happens.', 'prediction': 0.0}\n",
      "{'_id': ObjectId('61bfc4d9b8bc24cd819b36fa'), 'text': '@sswidamh @erecalie r u 1000000% over them? or is there a small part of you that still would', 'prediction': 0.0}\n",
      "{'_id': ObjectId('61bfc4d9b8bc24cd819b36fc'), 'text': 'Aaron breaking the record tonight', 'prediction': 0.0}\n",
      "{'_id': ObjectId('61bfc4d9b8bc24cd819b36ff'), 'text': 'i’m sorry but sometimes i hate my soft ass friends bc once we argue bxches jus irking … then we got my hard friends… https://t.co/7UcNQNUttw', 'prediction': 0.0}\n"
     ]
    }
   ],
   "source": [
    "myquery = { \"prediction\": 0.0 }\n",
    "mydoc = mycol.find(myquery)\n",
    "for x in mydoc:\n",
    "    print(x)"
   ]
  },
  {
   "cell_type": "code",
   "execution_count": null,
   "metadata": {},
   "outputs": [],
   "source": []
  }
 ],
 "metadata": {
  "kernelspec": {
   "display_name": "Python 3",
   "language": "python",
   "name": "python3"
  },
  "language_info": {
   "codemirror_mode": {
    "name": "ipython",
    "version": 3
   },
   "file_extension": ".py",
   "mimetype": "text/x-python",
   "name": "python",
   "nbconvert_exporter": "python",
   "pygments_lexer": "ipython3",
   "version": "3.8.5"
  }
 },
 "nbformat": 4,
 "nbformat_minor": 4
}
